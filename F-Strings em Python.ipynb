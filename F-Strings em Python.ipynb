{
 "cells": [
  {
   "cell_type": "markdown",
   "id": "991bad16",
   "metadata": {},
   "source": [
    "# Variáveis em texto"
   ]
  },
  {
   "cell_type": "code",
   "execution_count": 1,
   "id": "50bb2a21",
   "metadata": {},
   "outputs": [
    {
     "name": "stdout",
     "output_type": "stream",
     "text": [
      "faturamento: 1000\n"
     ]
    }
   ],
   "source": [
    "faturamento = 1000\n",
    "\n",
    "print(f\"faturamento: {faturamento}\")"
   ]
  },
  {
   "cell_type": "code",
   "execution_count": 8,
   "id": "539ff7a8",
   "metadata": {},
   "outputs": [
    {
     "name": "stdout",
     "output_type": "stream",
     "text": [
      "exemplo\n"
     ]
    }
   ],
   "source": [
    "nome_arquivo = \"exemplo.txt\"\n",
    "caminho = r'C:\\Users\\mateu\\Área de Trabalho'# r = raw string\n",
    "arquivo = open(f\"{caminho}/{nome_arquivo}\", \"r\")\n",
    "print(arquivo.read())\n",
    "arquivo.close()"
   ]
  },
  {
   "cell_type": "markdown",
   "id": "416bf267",
   "metadata": {},
   "source": [
    "# Formatando com casa decimal"
   ]
  },
  {
   "cell_type": "code",
   "execution_count": 13,
   "id": "4cdc2a42",
   "metadata": {},
   "outputs": [
    {
     "name": "stdout",
     "output_type": "stream",
     "text": [
      "faturamento: 1000.00\n",
      "faturamento: R$ 1000.00\n",
      "faturamento: R$ 1,000.00\n"
     ]
    }
   ],
   "source": [
    "print(f\"faturamento: {faturamento:.2f}\")\n",
    "\n",
    "print(f\"faturamento: R$ {faturamento:.2f}\")\n",
    "\n",
    "print(f\"faturamento: R$ {faturamento:,.2f}\") # Separador de milhar"
   ]
  },
  {
   "cell_type": "markdown",
   "id": "fc7386ac",
   "metadata": {},
   "source": [
    "# Número fixo de Dígitos"
   ]
  },
  {
   "cell_type": "code",
   "execution_count": 19,
   "id": "ab4c4bc2",
   "metadata": {},
   "outputs": [
    {
     "name": "stdout",
     "output_type": "stream",
     "text": [
      "CPF: 01234567890\n"
     ]
    }
   ],
   "source": [
    "cpf = 1234567890\n",
    "print(f\"CPF: {cpf:011}\") # Tem que ter 11 caracteres e o primeiro é o 0"
   ]
  },
  {
   "cell_type": "markdown",
   "id": "d096b743",
   "metadata": {},
   "source": [
    "# Percentual"
   ]
  },
  {
   "cell_type": "code",
   "execution_count": 23,
   "id": "4b4ff76c",
   "metadata": {},
   "outputs": [
    {
     "name": "stdout",
     "output_type": "stream",
     "text": [
      "Margem: 27.00%\n"
     ]
    }
   ],
   "source": [
    "margem_lucro = 0.27\n",
    "print(f\"Margem: {margem_lucro:.2%}\")"
   ]
  },
  {
   "cell_type": "markdown",
   "id": "1dffe0f8",
   "metadata": {},
   "source": [
    "# Datas"
   ]
  },
  {
   "cell_type": "code",
   "execution_count": 29,
   "id": "d66ea4b1",
   "metadata": {},
   "outputs": [
    {
     "name": "stdout",
     "output_type": "stream",
     "text": [
      "19/09/2022\n"
     ]
    }
   ],
   "source": [
    "from datetime import datetime\n",
    "hoje = datetime.now()\n",
    "print(f\"{hoje:%d/%m/%Y}\") # Procura na documentacão pelos códigos %"
   ]
  },
  {
   "cell_type": "markdown",
   "id": "48d48439",
   "metadata": {},
   "source": [
    "# Cuidado com textos com chaves {}"
   ]
  },
  {
   "cell_type": "code",
   "execution_count": 33,
   "id": "0c48f07e",
   "metadata": {},
   "outputs": [
    {
     "name": "stdout",
     "output_type": "stream",
     "text": [
      "{Produto: iphone}\n"
     ]
    }
   ],
   "source": [
    "produto = 'iphone'\n",
    "print(f\"{{Produto: {produto}}}\") # Adiciona Chaves duplas {{ }}"
   ]
  },
  {
   "cell_type": "markdown",
   "id": "c2fc0c4c",
   "metadata": {},
   "source": [
    "# Corpo do E-mail"
   ]
  },
  {
   "cell_type": "code",
   "execution_count": 38,
   "id": "74752336",
   "metadata": {},
   "outputs": [
    {
     "name": "stdout",
     "output_type": "stream",
     "text": [
      "Bom dia, diretoria\n",
      "\n",
      "Faturamento: R$ 1,000.00\n",
      "Margem de Lucro: 27.0%\n",
      "Data de hoje: 19/09/2022\n",
      "\n"
     ]
    }
   ],
   "source": [
    "texto = f\"\"\"Bom dia, diretoria\n",
    "\n",
    "Faturamento: R$ {faturamento:,.2f}\n",
    "Margem de Lucro: {margem_lucro:.1%}\n",
    "Data de hoje: {hoje:%d/%m/%Y}\n",
    "\"\"\"\n",
    "print(texto)"
   ]
  }
 ],
 "metadata": {
  "kernelspec": {
   "display_name": "Python 3 (ipykernel)",
   "language": "python",
   "name": "python3"
  },
  "language_info": {
   "codemirror_mode": {
    "name": "ipython",
    "version": 3
   },
   "file_extension": ".py",
   "mimetype": "text/x-python",
   "name": "python",
   "nbconvert_exporter": "python",
   "pygments_lexer": "ipython3",
   "version": "3.9.12"
  }
 },
 "nbformat": 4,
 "nbformat_minor": 5
}
