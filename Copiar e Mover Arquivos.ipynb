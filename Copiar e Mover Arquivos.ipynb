{
 "cells": [
  {
   "cell_type": "markdown",
   "id": "68aa51d9",
   "metadata": {},
   "source": [
    "# Biblioteca OS"
   ]
  },
  {
   "cell_type": "code",
   "execution_count": null,
   "id": "909abf0d",
   "metadata": {},
   "outputs": [],
   "source": [
    "# Listar os arquivos\n",
    "import os\n",
    "\n",
    "arquivos = os.listdir()\n",
    "print(arquivos)"
   ]
  },
  {
   "cell_type": "code",
   "execution_count": null,
   "id": "b79d51c1",
   "metadata": {},
   "outputs": [],
   "source": [
    "# Caminho da Pasta\n",
    "caminho = os.getcwd()\n",
    "print(caminho)"
   ]
  },
  {
   "cell_type": "code",
   "execution_count": null,
   "id": "c7e5aa9d",
   "metadata": {},
   "outputs": [],
   "source": [
    "# Renomear, nome antigo, nome novo\n",
    "os.rename('Vendas - 1.xlsx', 'Vendas 1.xlsx')\n",
    "# Mover\n",
    "os.rename('Vendas - 1.xlsx', 'Vendas\\Vendas 1.xlsx')"
   ]
  },
  {
   "cell_type": "code",
   "execution_count": null,
   "id": "e21c1ac7",
   "metadata": {},
   "outputs": [],
   "source": [
    "# Copiar Arquivos\n",
    "import shutil\n",
    "\n",
    "shutil.copy2('Vendas - 1.xlsx', 'Vendas\\Vendas 1.xlsx')"
   ]
  },
  {
   "cell_type": "code",
   "execution_count": null,
   "id": "f93708d1",
   "metadata": {},
   "outputs": [],
   "source": [
    "# Mover arquivos de Compras para a pasta compras e arquivos Vendas para a pasta vendas\n",
    "lista_arquivos = os.listdir()\n",
    "\n",
    "for arquivo in lista_arquivos:\n",
    "    if 'xlsx' in arquivo:\n",
    "        if 'Compras' in arquivo:\n",
    "            # Jogar para a pasta Compras\n",
    "            os.rename(arquivo, f'Compras\\{arquivo}')\n",
    "        elif 'Vendas' in arquivo:\n",
    "            # Jogar para pasta de Vendas\n",
    "            os.rename(arquivo, f'Vendas\\{arquivo}')"
   ]
  }
 ],
 "metadata": {
  "kernelspec": {
   "display_name": "Python 3 (ipykernel)",
   "language": "python",
   "name": "python3"
  },
  "language_info": {
   "codemirror_mode": {
    "name": "ipython",
    "version": 3
   },
   "file_extension": ".py",
   "mimetype": "text/x-python",
   "name": "python",
   "nbconvert_exporter": "python",
   "pygments_lexer": "ipython3",
   "version": "3.9.7"
  }
 },
 "nbformat": 4,
 "nbformat_minor": 5
}
