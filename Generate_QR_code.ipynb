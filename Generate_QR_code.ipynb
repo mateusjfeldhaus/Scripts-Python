{
 "cells": [
  {
   "cell_type": "code",
   "execution_count": 9,
   "id": "21fb59b0",
   "metadata": {},
   "outputs": [
    {
     "ename": "SyntaxError",
     "evalue": "invalid syntax (1246844887.py, line 1)",
     "output_type": "error",
     "traceback": [
      "\u001b[1;36m  Cell \u001b[1;32mIn[9], line 1\u001b[1;36m\u001b[0m\n\u001b[1;33m    pip install segno Pillow\u001b[0m\n\u001b[1;37m        ^\u001b[0m\n\u001b[1;31mSyntaxError\u001b[0m\u001b[1;31m:\u001b[0m invalid syntax\n"
     ]
    }
   ],
   "source": [
    "%pip install segno \n",
    "\n"
   ]
  },
  {
   "cell_type": "code",
   "execution_count": 12,
   "metadata": {},
   "outputs": [
    {
     "name": "stdout",
     "output_type": "stream",
     "text": [
      "Defaulting to user installation because normal site-packages is not writeable\n",
      "Collecting pillow\n",
      "  Downloading pillow-10.2.0-cp311-cp311-win_amd64.whl.metadata (9.9 kB)\n",
      "Downloading pillow-10.2.0-cp311-cp311-win_amd64.whl (2.6 MB)\n",
      "   ---------------------------------------- 0.0/2.6 MB ? eta -:--:--\n",
      "   ---------------------------------------- 0.0/2.6 MB 1.3 MB/s eta 0:00:03\n",
      "    --------------------------------------- 0.1/2.6 MB 656.4 kB/s eta 0:00:04\n",
      "   - -------------------------------------- 0.1/2.6 MB 1.1 MB/s eta 0:00:03\n",
      "   --- ------------------------------------ 0.2/2.6 MB 1.3 MB/s eta 0:00:02\n",
      "   ----- ---------------------------------- 0.3/2.6 MB 1.5 MB/s eta 0:00:02\n",
      "   -------- ------------------------------- 0.5/2.6 MB 2.0 MB/s eta 0:00:02\n",
      "   ------------- -------------------------- 0.9/2.6 MB 2.8 MB/s eta 0:00:01\n",
      "   ----------------- ---------------------- 1.1/2.6 MB 3.2 MB/s eta 0:00:01\n",
      "   ------------------------------- -------- 2.0/2.6 MB 5.0 MB/s eta 0:00:01\n",
      "   -------------------------------------- - 2.5/2.6 MB 5.5 MB/s eta 0:00:01\n",
      "   ---------------------------------------- 2.6/2.6 MB 5.6 MB/s eta 0:00:00\n",
      "Installing collected packages: pillow\n",
      "Successfully installed pillow-10.2.0\n",
      "Note: you may need to restart the kernel to use updated packages.\n"
     ]
    }
   ],
   "source": [
    "%pip install pillow"
   ]
  },
  {
   "cell_type": "code",
   "execution_count": 30,
   "id": "dafd2233",
   "metadata": {},
   "outputs": [],
   "source": [
    "import segno\n",
    "from PIL import Image\n",
    "import io\n"
   ]
  },
  {
   "cell_type": "code",
   "execution_count": 29,
   "id": "8a927c73",
   "metadata": {},
   "outputs": [],
   "source": [
    "import segno\n",
    "from PIL import Image\n",
    "\n",
    "link = \"https://drive.google.com/drive/folders/1o3gJ3GRN7suPJuy6sFLdZ2omoIeQhy45?usp=sharing\"\n",
    "qr_code = segno.make(link, micro=False)  # Create QR Code\n",
    "\n",
    "qr_code.save(\"qrcode.png\", scale=5)"
   ]
  },
  {
   "cell_type": "code",
   "execution_count": 33,
   "id": "92270397",
   "metadata": {},
   "outputs": [],
   "source": [
    "# Gerar QRCODE com logo no centro\n",
    "\n",
    "import segno\n",
    "from PIL import Image\n",
    "import io\n",
    "\n",
    "out = io.BytesIO()\n",
    "\n",
    "link = \"https://drive.google.com/drive/folders/1o3gJ3GRN7suPJuy6sFLdZ2omoIeQhy45?usp=sharing\"\n",
    "logo = \"./bierhaus - Logo Transparente.png\"\n",
    "\n",
    "segno.make(link, error='h').save(out, scale=5, kind='png')\n",
    "\n",
    "out.seek(0)  # Important to let Pillow load the PNG\n",
    "img = Image.open(out)\n",
    "img = img.convert('RGB')  # Ensure colors for the output\n",
    "img_width, img_height = img.size\n",
    "logo_max_size = img_height // 3  # May use a fixed value as well\n",
    "logo_img = Image.open(logo)  # The logo\n",
    "# Resize the logo to logo_max_size\n",
    "logo_img.thumbnail((logo_max_size, logo_max_size), Image.Resampling.LANCZOS)\n",
    "# Calculate the center of the QR code\n",
    "box = ((img_width - logo_img.size[0]) // 2, (img_height - logo_img.size[1]) // 2)\n",
    "img.paste(logo_img, box)\n",
    "img.save('qrcode_with_logo.png')"
   ]
  }
 ],
 "metadata": {
  "kernelspec": {
   "display_name": "Python 3 (ipykernel)",
   "language": "python",
   "name": "python3"
  },
  "language_info": {
   "codemirror_mode": {
    "name": "ipython",
    "version": 3
   },
   "file_extension": ".py",
   "mimetype": "text/x-python",
   "name": "python",
   "nbconvert_exporter": "python",
   "pygments_lexer": "ipython3",
   "version": "3.11.4"
  }
 },
 "nbformat": 4,
 "nbformat_minor": 5
}
