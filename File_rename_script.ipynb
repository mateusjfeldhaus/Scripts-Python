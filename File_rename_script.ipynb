{
 "cells": [
  {
   "cell_type": "code",
   "execution_count": 6,
   "id": "92c85cd4",
   "metadata": {},
   "outputs": [
    {
     "name": "stdout",
     "output_type": "stream",
     "text": [
      "Requirement already satisfied: pyautogui in c:\\users\\mateus\\anaconda3\\lib\\site-packages (0.9.54)\n",
      "Requirement already satisfied: pyperclip in c:\\users\\mateus\\anaconda3\\lib\\site-packages (1.8.2)\n",
      "Requirement already satisfied: pymsgbox in c:\\users\\mateus\\anaconda3\\lib\\site-packages (from pyautogui) (1.0.9)\n",
      "Requirement already satisfied: pytweening>=1.0.4 in c:\\users\\mateus\\anaconda3\\lib\\site-packages (from pyautogui) (1.2.0)\n",
      "Requirement already satisfied: pyscreeze>=0.1.21 in c:\\users\\mateus\\anaconda3\\lib\\site-packages (from pyautogui) (0.1.30)\n",
      "Requirement already satisfied: pygetwindow>=0.0.5 in c:\\users\\mateus\\anaconda3\\lib\\site-packages (from pyautogui) (0.0.9)\n",
      "Requirement already satisfied: mouseinfo in c:\\users\\mateus\\anaconda3\\lib\\site-packages (from pyautogui) (0.1.3)\n",
      "Requirement already satisfied: pyrect in c:\\users\\mateus\\anaconda3\\lib\\site-packages (from pygetwindow>=0.0.5->pyautogui) (0.2.0)\n",
      "Requirement already satisfied: Pillow>=9.3.0 in c:\\users\\mateus\\anaconda3\\lib\\site-packages (from pyscreeze>=0.1.21->pyautogui) (10.2.0)\n"
     ]
    }
   ],
   "source": [
    "!pip install pyautogui pyperclip"
   ]
  },
  {
   "cell_type": "code",
   "execution_count": 1,
   "id": "142b27ae",
   "metadata": {},
   "outputs": [],
   "source": [
    "import pyautogui\n",
    "import pyperclip\n",
    "import time"
   ]
  },
  {
   "cell_type": "code",
   "execution_count": 24,
   "id": "80367e9f",
   "metadata": {},
   "outputs": [],
   "source": [
    "# Setting the Variables for the Loop and renaming process\n",
    "number_files = 6 # Set the number of the files on the folder to run trough the for loop\n",
    "starting_episode = 17 # Staring Episode Number to rename\n",
    "file_name = \"Stargate SG1 - S10E\" # Starting file name\n",
    "\n",
    "# Doing an Alt Tab to change from the browser page of the Jupyter Notebook, to the folder where the files to be renamed are\n",
    "pyautogui.hotkey(\"alt\", \"tab\")\n",
    "pyautogui.press(\"enter\")\n",
    "time.sleep(1)\n",
    "\n",
    "pyautogui.press(\"f2\") # Now you can change the name of the files on the folder. For this to work, you must have clicked on the first file and then alt tab to the jupyter notebook to run the script\n",
    "\n",
    "for i in range (0, number_files): # Macro for renaming the files, with number_files as the number of files you have to rename\n",
    "    episode_number = str(starting_episode).zfill(2)  # Zero padding for 2 digits\n",
    "    new_file_name = f\"{file_name}{episode_number}\" # File name with changing episode number\n",
    "    \n",
    "    pyautogui.hotkey(\"ctrl\", \"a\")  # Select the entire text\n",
    "    pyautogui.press(\"delete\") # Delete the old name\n",
    "    pyperclip.copy(new_file_name)  # Copy the new file name to clipboard\n",
    "    pyautogui.hotkey(\"ctrl\", \"v\")  # Paste the new file name\n",
    "    pyautogui.press(\"tab\")  # Move to the next file\n",
    "    starting_episode += 1  # Incrementing the episode number for the next iteration    \n",
    "    time.sleep(0.09) # Sleep so you are 100% sure you have done all the changes and moved on to the next file before you try to make another change"
   ]
  },
  {
   "cell_type": "markdown",
   "id": "72698bbe",
   "metadata": {},
   "source": []
  }
 ],
 "metadata": {
  "kernelspec": {
   "display_name": "Python 3 (ipykernel)",
   "language": "python",
   "name": "python3"
  },
  "language_info": {
   "codemirror_mode": {
    "name": "ipython",
    "version": 3
   },
   "file_extension": ".py",
   "mimetype": "text/x-python",
   "name": "python",
   "nbconvert_exporter": "python",
   "pygments_lexer": "ipython3",
   "version": "3.11.5"
  }
 },
 "nbformat": 4,
 "nbformat_minor": 5
}
